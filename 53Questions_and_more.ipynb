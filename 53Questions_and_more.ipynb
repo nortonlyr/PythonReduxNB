{
 "cells": [
  {
   "cell_type": "markdown",
   "metadata": {},
   "source": [
    "# 53 Python Interview Questions and Answers\n",
    "## Python questions for data scientist and software engineers\n",
    "\n",
    "Not so long ago I started a new role as a “Data Scientist” which turned out to be “Python Engineer” in practice.\n",
    "\n",
    "I would have been more prepared if I’d brushed up on Python’s thread lifecycle instead of recommender systems in advance.\n",
    "\n",
    "In that spirit, here are my python interview/job preparation questions and answers. Most data scientists write a lot code so this applies to both scientists and engineers.\n",
    "\n",
    "Whether you’re interviewing candidates, preparing to apply to jobs or just brushing up on Python, I think this list will be invaluable.\n",
    "\n",
    "Questions are unordered. Let’s begin."
   ]
  },
  {
   "cell_type": "markdown",
   "metadata": {},
   "source": [
    "### (1) What is the difference between a list and a tuple?\n",
    "\n",
    "I’ve been asked this question in every python / data science interview I’ve ever had. Know the answer like the back of your hand.\n",
    "\n",
    "- Lists are mutable. They can be modified after creation.\n",
    "- Tuples are immutable. Once a tuple is created it cannot by changed\n",
    "- Lists have order. They are an ordered sequences, typically of the same type of object. Ie: all user names ordered by creation date, [\"Seth\", \"Ema\", \"Eli\"]\n",
    "- Tuples have structure. Different data types may exist at each index. Ie: a database record in memory, (2, \"Ema\", \"2020–04–16\") # id, name, created_at"
   ]
  },
  {
   "cell_type": "markdown",
   "metadata": {},
   "source": [
    "...\n",
    "# A WHOLE BUNCH OF TYPING.\n",
    "..."
   ]
  },
  {
   "cell_type": "markdown",
   "metadata": {},
   "source": [
    "### (53) How is exception handling performed in Python?\n",
    "Python provides 3 words to handle exceptions, *try*, *except* and *finally*.\n",
    "The syntax looks like this.\n"
   ]
  },
  {
   "cell_type": "code",
   "execution_count": 3,
   "metadata": {},
   "outputs": [
    {
     "name": "stdout",
     "output_type": "stream",
     "text": [
      "complete\n",
      "10\n"
     ]
    }
   ],
   "source": [
    "try:\n",
    "    val = 1 + 'A'\n",
    "except:\n",
    "    val = 10\n",
    "finally:\n",
    "    print('complete')\n",
    "    \n",
    "print(val)"
   ]
  },
  {
   "cell_type": "markdown",
   "metadata": {},
   "source": [
    "\n",
    "You're Welcome. Yours Truly, Crazy Uncle Kris."
   ]
  },
  {
   "cell_type": "markdown",
   "metadata": {},
   "source": [
    "### 1. What is the difference between a list and tuple?"
   ]
  },
  {
   "cell_type": "markdown",
   "metadata": {},
   "source": [
    "##### List -> mutable, can change, replace, and modify after creation, \n",
    "##### List -> has order, when you have same type of obecjt, e.g. [3, 6, 10, 20], ['a', 'c', 't'], order by date, alphabtic, type....\n",
    "\n",
    "##### tuple -> immutable, can NOT change after creation \n",
    "##### tuple -> has structure,  different data type can exist at each index, e.g. (99, \"Tom\", False, '2020-04-24\" )"
   ]
  },
  {
   "cell_type": "markdown",
   "metadata": {},
   "source": [
    "### How is string interpolating performed?\n",
    "##### When there is no template class, 3 ways can interpolate string.\n",
    "######  1. f strings"
   ]
  },
  {
   "cell_type": "code",
   "execution_count": 6,
   "metadata": {},
   "outputs": [
    {
     "name": "stdout",
     "output_type": "stream",
     "text": [
      "Hello Tom\n"
     ]
    }
   ],
   "source": [
    "name = 'Tom'\n",
    "print(f'Hello {name}')"
   ]
  },
  {
   "cell_type": "markdown",
   "metadata": {},
   "source": [
    "######  2. % operator"
   ]
  },
  {
   "cell_type": "code",
   "execution_count": 7,
   "metadata": {},
   "outputs": [
    {
     "name": "stdout",
     "output_type": "stream",
     "text": [
      "Hey Tom, Tom\n"
     ]
    }
   ],
   "source": [
    "print('Hey %s, %s' % (name, name))"
   ]
  },
  {
   "cell_type": "markdown",
   "metadata": {},
   "source": [
    "##### 3. format"
   ]
  },
  {
   "cell_type": "code",
   "execution_count": 9,
   "metadata": {},
   "outputs": [
    {
     "name": "stdout",
     "output_type": "stream",
     "text": [
      "My name is Tom\n"
     ]
    }
   ],
   "source": [
    "print(\"My name is {}\".format(name))"
   ]
  },
  {
   "cell_type": "markdown",
   "metadata": {},
   "source": [
    "### 3. What is the different between 'is' and '=='?"
   ]
  },
  {
   "cell_type": "code",
   "execution_count": 150,
   "metadata": {},
   "outputs": [],
   "source": [
    "x = [11,22,33]\n",
    "y = x\n",
    "z = [11,22,33]"
   ]
  },
  {
   "cell_type": "code",
   "execution_count": 151,
   "metadata": {},
   "outputs": [
    {
     "name": "stdout",
     "output_type": "stream",
     "text": [
      "True\n",
      "True\n"
     ]
    }
   ],
   "source": [
    "# Equality and note are same\n",
    "print(x==y)\n",
    "print(x==z)"
   ]
  },
  {
   "cell_type": "code",
   "execution_count": 152,
   "metadata": {},
   "outputs": [
    {
     "name": "stdout",
     "output_type": "stream",
     "text": [
      "True\n",
      "False\n"
     ]
    }
   ],
   "source": [
    "# identity is not same\n",
    "print(x is y)\n",
    "print(x is z)"
   ]
  },
  {
   "cell_type": "code",
   "execution_count": 17,
   "metadata": {},
   "outputs": [
    {
     "name": "stdout",
     "output_type": "stream",
     "text": [
      "4425191936\n",
      "4425191936\n",
      "4425881024\n"
     ]
    }
   ],
   "source": [
    "#verify this by printing their object's id. z has a different id than x and y\n",
    "print(id(x))\n",
    "print(id(y))\n",
    "print(id(z))"
   ]
  },
  {
   "cell_type": "markdown",
   "metadata": {},
   "source": [
    "### 4. What is a decorator?"
   ]
  },
  {
   "cell_type": "markdown",
   "metadata": {},
   "source": [
    "#### A decorator allows adding functionality to existing function by passing that existing function to a decorator, which executes the existing function as well as additional code\n",
    "#### below is a example to wrap the original function "
   ]
  },
  {
   "cell_type": "code",
   "execution_count": 147,
   "metadata": {},
   "outputs": [],
   "source": [
    "def double_args(func):\n",
    "    def wrapper(x, y):\n",
    "        return func(x*2, y*2)\n",
    "    return wrapper"
   ]
  },
  {
   "cell_type": "code",
   "execution_count": 149,
   "metadata": {},
   "outputs": [
    {
     "data": {
      "text/plain": [
       "20"
      ]
     },
     "execution_count": 149,
     "metadata": {},
     "output_type": "execute_result"
    }
   ],
   "source": [
    "#example\n",
    "@double_args\n",
    "def multiply(x, y):\n",
    "    return x * y\n",
    "\n",
    "multiply(1, 5)"
   ]
  },
  {
   "cell_type": "markdown",
   "metadata": {},
   "source": [
    "### 5. Explain the range function\n",
    "#### There are 3 ways to use the range function"
   ]
  },
  {
   "cell_type": "code",
   "execution_count": 26,
   "metadata": {},
   "outputs": [
    {
     "data": {
      "text/plain": [
       "[0, 1, 2, 3, 4, 5, 6, 7, 8, 9]"
      ]
     },
     "execution_count": 26,
     "metadata": {},
     "output_type": "execute_result"
    }
   ],
   "source": [
    "#range(stop) : generate integers from 0 to the 'stop' integer.\n",
    "[i for i in range(10)]"
   ]
  },
  {
   "cell_type": "code",
   "execution_count": 155,
   "metadata": {},
   "outputs": [
    {
     "data": {
      "text/plain": [
       "[2, 3, 4, 5, 6, 7, 8, 9, 10, 11, 12, 13, 14, 15, 16, 17, 18, 19]"
      ]
     },
     "execution_count": 155,
     "metadata": {},
     "output_type": "execute_result"
    }
   ],
   "source": [
    "#range(start, stop) : generate integers from the 'start' to the 'stop' integer\n",
    "[ i for i in range(2, 20)]"
   ]
  },
  {
   "cell_type": "code",
   "execution_count": 153,
   "metadata": {},
   "outputs": [
    {
     "data": {
      "text/plain": [
       "[2, 4, 6, 8, 10, 12, 14, 16, 18, 20, 22, 24, 26, 28, 30, 32, 34, 36, 38]"
      ]
     },
     "execution_count": 153,
     "metadata": {},
     "output_type": "execute_result"
    }
   ],
   "source": [
    "# generate integers from 'start' to 'stop' at intervals of 'step'\n",
    "[i for i in range(2, 40, 2)]"
   ]
  },
  {
   "cell_type": "markdown",
   "metadata": {},
   "source": [
    "### 6. Define a class named car with 2 properties, 'color' and 'speed'. Then create an instance and return speed. "
   ]
  },
  {
   "cell_type": "code",
   "execution_count": 183,
   "metadata": {},
   "outputs": [
    {
     "data": {
      "text/plain": [
       "'75 mph'"
      ]
     },
     "execution_count": 183,
     "metadata": {},
     "output_type": "execute_result"
    }
   ],
   "source": [
    "class Car:\n",
    "    def __init__(self, color, speed):\n",
    "        self.color = color\n",
    "        self.speed = speed\n",
    "\n",
    "car = Car('white', '75 mph')\n",
    "car.speed"
   ]
  },
  {
   "cell_type": "markdown",
   "metadata": {},
   "source": [
    "### 7. Whats is the difference between instance, static and class methods in python?\n",
    "#### instance methods: accept 'self' parameter and related to a specific instance of the class.\n",
    "#### Static methods: use '@staticmethod'  decorator, are not related to a specfic instance, and self-contained (don't modify class or instance properties)\n",
    "#### Class methods: accept 'cls' parameter and can modify the class itself"
   ]
  },
  {
   "cell_type": "code",
   "execution_count": 167,
   "metadata": {},
   "outputs": [],
   "source": [
    "# Example\n",
    "class Deli:\n",
    "    specialty = 'hot-dog'\n",
    "    \n",
    "    def __init__(self, hot_dog_price):\n",
    "        self.hot_dog_price = hot_dog_price\n",
    "        \n",
    "    # instance method\n",
    "    def make_hot_dog(self):\n",
    "        print(f'Making {self.specialty} for $ {self.hot_dog_price}')\n",
    "    \n",
    "    # static method\n",
    "    @staticmethod\n",
    "    def check_weather():\n",
    "        print('Its cloudy')\n",
    "            \n",
    "    #class method\n",
    "    @classmethod\n",
    "    def change_specialty(cls, specialty):\n",
    "        cls.specialty = specialty\n",
    "        print(f'Specialty changed to {specialty}')"
   ]
  },
  {
   "cell_type": "markdown",
   "metadata": {},
   "source": [
    "#### 'Deli' class has a property, 'specialty', set to 'exprosso' by default. Each instanc of 'CoffeeShop' is initialized with a property 'coffee_price'. It also has 3 methods, an instance method, a static method and class method. \n",
    "#### Let's initialize an instance of the coffee shop with a 'coffee_price ' of 5. Then call the instance method 'make_coffee'"
   ]
  },
  {
   "cell_type": "code",
   "execution_count": 172,
   "metadata": {},
   "outputs": [
    {
     "name": "stdout",
     "output_type": "stream",
     "text": [
      "Making chicken over rice for $ 10\n"
     ]
    }
   ],
   "source": [
    "deli = Deli('10')\n",
    "deli.make_hot_dog()"
   ]
  },
  {
   "cell_type": "markdown",
   "metadata": {},
   "source": [
    "#### Now call the static method. Static methods can't modify class or instance state so they're normally used for utility functions, for example, adding 2 numbers. We used ours to check the weather. 'Its sunny.' Great!"
   ]
  },
  {
   "cell_type": "code",
   "execution_count": 173,
   "metadata": {},
   "outputs": [
    {
     "name": "stdout",
     "output_type": "stream",
     "text": [
      "Its cloudy\n"
     ]
    }
   ],
   "source": [
    "deli.check_weather()"
   ]
  },
  {
   "cell_type": "markdown",
   "metadata": {},
   "source": [
    "#### Now, let's use the class method to modify the deli's specialty and then 'make_hot_dog'"
   ]
  },
  {
   "cell_type": "code",
   "execution_count": 174,
   "metadata": {},
   "outputs": [
    {
     "name": "stdout",
     "output_type": "stream",
     "text": [
      "Specialty changed to chicken over rice\n"
     ]
    }
   ],
   "source": [
    "deli.change_specialty('chicken over rice')"
   ]
  },
  {
   "cell_type": "code",
   "execution_count": 175,
   "metadata": {},
   "outputs": [
    {
     "name": "stdout",
     "output_type": "stream",
     "text": [
      "Making chicken over rice for $ 10\n"
     ]
    }
   ],
   "source": [
    "deli.make_hot_dog()"
   ]
  },
  {
   "cell_type": "markdown",
   "metadata": {},
   "source": [
    "#### Now how 'make_coffee' used to make 'expresso' but now makes 'drip coffee'"
   ]
  },
  {
   "cell_type": "markdown",
   "metadata": {},
   "source": [
    "### What is the difference between 'func' and 'func()'?\n",
    "\n",
    "#### The purpose of this question is to see if you understand that all functions are also objects in python"
   ]
  },
  {
   "cell_type": "code",
   "execution_count": 176,
   "metadata": {},
   "outputs": [
    {
     "data": {
      "text/plain": [
       "<function __main__.func()>"
      ]
     },
     "execution_count": 176,
     "metadata": {},
     "output_type": "execute_result"
    }
   ],
   "source": [
    "def func():\n",
    "    print('Hello, Python!')\n",
    "\n",
    "func"
   ]
  },
  {
   "cell_type": "code",
   "execution_count": 177,
   "metadata": {},
   "outputs": [
    {
     "name": "stdout",
     "output_type": "stream",
     "text": [
      "Hello, Python!\n"
     ]
    }
   ],
   "source": [
    "func()"
   ]
  },
  {
   "cell_type": "markdown",
   "metadata": {},
   "source": [
    "#### 'func' is the object representing the function which can be assigned to a variable or passed to another function. func() with parentheses calls the function and returns what it outputs."
   ]
  },
  {
   "cell_type": "markdown",
   "metadata": {},
   "source": [
    "### 9. Explain how the map function works\n",
    "#### 'map' returns a list made up of the returned values from applying a function to every element in a sequence."
   ]
  },
  {
   "cell_type": "code",
   "execution_count": 41,
   "metadata": {},
   "outputs": [
    {
     "data": {
      "text/plain": [
       "[4, 5, 6]"
      ]
     },
     "execution_count": 41,
     "metadata": {},
     "output_type": "execute_result"
    }
   ],
   "source": [
    "def add_three(x):\n",
    "    return x + 3\n",
    "\n",
    "lst = [1,2,3]\n",
    "\n",
    "[i for i in map(add_three, lst)]"
   ]
  },
  {
   "cell_type": "markdown",
   "metadata": {},
   "source": [
    "### 10. Explain how the reduce function works\n",
    "#### This can be tricky to wrap your head around until you use it a few times\n",
    "#### 'return' takes a function and a sequence and iterates over that sequence. On each iteration, both the current element and output from the previous element are passed to the funtion. In the end, a single values is returned."
   ]
  },
  {
   "cell_type": "code",
   "execution_count": 43,
   "metadata": {},
   "outputs": [
    {
     "data": {
      "text/plain": [
       "11"
      ]
     },
     "execution_count": 43,
     "metadata": {},
     "output_type": "execute_result"
    }
   ],
   "source": [
    "from functools import reduce\n",
    "\n",
    "def add_three(x,y):\n",
    "    return x + y\n",
    "\n",
    "lst = [1,2,3,5]\n",
    "\n",
    "reduce(add_three, lst)\n",
    "\n",
    "# 11 is returned wihch is the sum of 1+2+3+5"
   ]
  },
  {
   "cell_type": "markdown",
   "metadata": {},
   "source": [
    "### 11. Explain how the filter function works\n",
    "#### filter literally does what the name says. It filters elements in a sequence.\n",
    "#### Each element is passed to a funtion which is returned in the ouputted sequence if the function returns 'True' and discarded if the function returns 'False'."
   ]
  },
  {
   "cell_type": "code",
   "execution_count": 46,
   "metadata": {},
   "outputs": [
    {
     "data": {
      "text/plain": [
       "[2, 4, 6, 8]"
      ]
     },
     "execution_count": 46,
     "metadata": {},
     "output_type": "execute_result"
    }
   ],
   "source": [
    "def add_three(x):\n",
    "    if x % 2 == 0:\n",
    "        return True\n",
    "    else: \n",
    "        return False\n",
    "\n",
    "lst = [1,2,3,4,5,6,7,8]\n",
    "\n",
    "[i for i in filter(add_three, lst)]\n",
    "# all elemtnts not divisble by 2 have been removed."
   ]
  },
  {
   "cell_type": "markdown",
   "metadata": {},
   "source": [
    "### 12. Deos python call by reference or call by value?\n",
    "#### Be prepared to go down a rabbit hole of semantics if you google this question and read the top few pages. You are better off just having an idea how this works.\n",
    "#### Immutable objects like strings, numbers and tuples are call-by-value. Notice how the value of 'name' didn't change outside the function when modified inside. The value of 'name' was assigned to a new block in memory for the scope of that function."
   ]
  },
  {
   "cell_type": "code",
   "execution_count": 52,
   "metadata": {},
   "outputs": [
    {
     "name": "stdout",
     "output_type": "stream",
     "text": [
      "chris\n",
      "chr\n"
     ]
    }
   ],
   "source": [
    "name = 'chr'\n",
    "\n",
    "def add_chars(s):\n",
    "    s += 'is'\n",
    "    print(s)\n",
    "\n",
    "add_chars(name)\n",
    "print(name)"
   ]
  },
  {
   "cell_type": "markdown",
   "metadata": {},
   "source": [
    "#### Mutale objects like list are call-by-reference. Notice how the list defined outside the function was modfied inside the fuinction. The parameter in the function pointed to the original block in memory that stored the values of 'lst'"
   ]
  },
  {
   "cell_type": "code",
   "execution_count": 53,
   "metadata": {},
   "outputs": [
    {
     "name": "stdout",
     "output_type": "stream",
     "text": [
      "[1, 2, 3]\n",
      "[1, 2, 3]\n"
     ]
    }
   ],
   "source": [
    "lst = [1,2]\n",
    "\n",
    "def add_element(seq):\n",
    "    seq.append(3)\n",
    "    print(seq)\n",
    "\n",
    "add_element(lst)\n",
    "print(lst)"
   ]
  },
  {
   "cell_type": "markdown",
   "metadata": {},
   "source": [
    "### 13. How to reverse a list?"
   ]
  },
  {
   "cell_type": "markdown",
   "metadata": {},
   "source": [
    "#### How does 'reverse()' is called on the list and mutates it. It doesn't return the mutated list itself."
   ]
  },
  {
   "cell_type": "code",
   "execution_count": 55,
   "metadata": {},
   "outputs": [
    {
     "name": "stdout",
     "output_type": "stream",
     "text": [
      "['a', 'b', 'c']\n",
      "['c', 'b', 'a']\n"
     ]
    }
   ],
   "source": [
    "lst = ['a', 'b', 'c']\n",
    "\n",
    "print(lst)\n",
    "lst.reverse()\n",
    "print(lst)"
   ]
  },
  {
   "cell_type": "markdown",
   "metadata": {},
   "source": [
    "### 14. How does string multiplication work?\n",
    "#### Let's see the results of multiplying the string 'cat' by 3"
   ]
  },
  {
   "cell_type": "code",
   "execution_count": 56,
   "metadata": {},
   "outputs": [
    {
     "data": {
      "text/plain": [
       "'catcatcat'"
      ]
     },
     "execution_count": 56,
     "metadata": {},
     "output_type": "execute_result"
    }
   ],
   "source": [
    "'cat' * 3\n",
    "# The string is concatenated to itself 3 times."
   ]
  },
  {
   "cell_type": "markdown",
   "metadata": {},
   "source": [
    "### 15. How does list multiplication work?\n",
    "#### let's see the result of multiplying a list, [1,2,3] by 2"
   ]
  },
  {
   "cell_type": "code",
   "execution_count": 57,
   "metadata": {},
   "outputs": [
    {
     "data": {
      "text/plain": [
       "[1, 2, 3, 1, 2, 3]"
      ]
     },
     "execution_count": 57,
     "metadata": {},
     "output_type": "execute_result"
    }
   ],
   "source": [
    "[1,2,3] * 2\n",
    "# A list is outputted containing the content of [1,2,3] repeated twice."
   ]
  },
  {
   "cell_type": "markdown",
   "metadata": {},
   "source": [
    "### 16. What does 'self' refer to in a class?\n",
    "#### Self refers to the instance of the class itself. It's how we give methods access to and the ability to update the object they belong to\n",
    "#### Below, passing self to '__init__()' gives us the ability to set the 'color' of an instance on initialization."
   ]
  },
  {
   "cell_type": "code",
   "execution_count": 58,
   "metadata": {},
   "outputs": [
    {
     "data": {
      "text/plain": [
       "'yellow'"
      ]
     },
     "execution_count": 58,
     "metadata": {},
     "output_type": "execute_result"
    }
   ],
   "source": [
    "class Shirt:\n",
    "    def __init__(self, color):\n",
    "        self.color = color\n",
    "\n",
    "s = Shirt('yellow')\n",
    "s.color"
   ]
  },
  {
   "cell_type": "markdown",
   "metadata": {},
   "source": [
    "### 17. How can you concatenate lists in python?\n",
    "#### Adding 2 lists togerher concatenates them. Note that arrays do not function the same way."
   ]
  },
  {
   "cell_type": "code",
   "execution_count": 59,
   "metadata": {},
   "outputs": [
    {
     "data": {
      "text/plain": [
       "[1, 4, 2, 3, 6]"
      ]
     },
     "execution_count": 59,
     "metadata": {},
     "output_type": "execute_result"
    }
   ],
   "source": [
    "a = [1, 4]\n",
    "b = [2, 3, 6]\n",
    "\n",
    "a + b"
   ]
  },
  {
   "cell_type": "markdown",
   "metadata": {},
   "source": [
    "### What is the difference between a shallow and a deep copy?\n",
    "#### We'll discuss this in the context of a mutable object, a list. For immutable objects, shallow v.s. deep isn't as relevant.\n",
    "#### 1) Reference the original object. This points a new game, 'lst2', to the same place in memory to which 'lst1' points. So any change we make to 'lst1' also occurs to 'lst2'."
   ]
  },
  {
   "cell_type": "code",
   "execution_count": 61,
   "metadata": {},
   "outputs": [
    {
     "name": "stdout",
     "output_type": "stream",
     "text": [
      "[['a'], ['b'], ['c'], ['d']]\n"
     ]
    }
   ],
   "source": [
    "lst1 = [['a'], ['b'], ['c']]\n",
    "lst2 = lst1\n",
    "\n",
    "lst1.append(['d'])\n",
    "print(lst2)"
   ]
  },
  {
   "cell_type": "markdown",
   "metadata": {},
   "source": [
    "#### 2) Create a shallow copy of the original. We ca do this with the 'list()' constructor. A shallow copy creates a new object, but fills it with references to the original. So adding a new object to the original collection, 'lst3', doesn't propagate to 'lst4', but modifying one of the objects in 'lst3' will propagate to 'lst4'"
   ]
  },
  {
   "cell_type": "code",
   "execution_count": 66,
   "metadata": {},
   "outputs": [
    {
     "name": "stdout",
     "output_type": "stream",
     "text": [
      "[['a'], ['b'], ['c']]\n"
     ]
    }
   ],
   "source": [
    "lst3 = [['a'], ['b'], ['c']]\n",
    "lst4 = list(lst3)\n",
    "\n",
    "lst3.append([4])\n",
    "print(lst4)"
   ]
  },
  {
   "cell_type": "code",
   "execution_count": 67,
   "metadata": {},
   "outputs": [
    {
     "name": "stdout",
     "output_type": "stream",
     "text": [
      "[[['x']], ['b'], ['c']]\n"
     ]
    }
   ],
   "source": [
    "lst3[0][0]=['x']\n",
    "print(lst4)"
   ]
  },
  {
   "cell_type": "markdown",
   "metadata": {},
   "source": [
    "#### 3) Create a deep copy. This done with 'copy.deepcopy()'. The 2 objects are now completely independent and changes to either have no affect on the other"
   ]
  },
  {
   "cell_type": "code",
   "execution_count": 68,
   "metadata": {},
   "outputs": [
    {
     "name": "stdout",
     "output_type": "stream",
     "text": [
      "[['a'], ['b'], ['c']]\n"
     ]
    }
   ],
   "source": [
    "import copy\n",
    "lst5 = [['a'], ['b'], ['c']]\n",
    "lst6 = copy.deepcopy(lst5)\n",
    "\n",
    "lst5.append([4])\n",
    "lst5[0][0]=['x']\n",
    "print(lst6)"
   ]
  },
  {
   "cell_type": "markdown",
   "metadata": {},
   "source": [
    "### 19. What is the difference between lists and arrays?\n",
    "#### Note: Python's standard library has an array object but here I'm soefufucakkt referring to the commonly used Numpy array.\n",
    "- List exist in python's standard libaray. Arrays are defined by Numpy\n",
    "- List can be populated with different types of data at each index. Arrays require homogeneous elements.\n",
    "- Arithmetic on list adds or removes elements from the list. Arithmetic on arrays functions per linear algebra.\n",
    "- Arrays also use less memory and come with significantly more functionality."
   ]
  },
  {
   "cell_type": "markdown",
   "metadata": {},
   "source": [
    "### 20. How to concatentate two arrays?\n",
    "#### Remember, arrays are not lists. Arrays are from Numpy and arithmetic functions like linear algebra."
   ]
  },
  {
   "cell_type": "code",
   "execution_count": 70,
   "metadata": {},
   "outputs": [
    {
     "data": {
      "text/plain": [
       "array([1, 3, 5, 2, 4, 6])"
      ]
     },
     "execution_count": 70,
     "metadata": {},
     "output_type": "execute_result"
    }
   ],
   "source": [
    "import numpy as np\n",
    "\n",
    "a = np.array([1,3,5])\n",
    "b = np.array([2,4,6])\n",
    "\n",
    "np.concatenate((a,b))\n"
   ]
  },
  {
   "cell_type": "markdown",
   "metadata": {},
   "source": [
    "### 21.What do you like about Python?\n",
    "#### Python is very readbale and there is pythonic way to do just about everything, meaning a preferred wat which is clear and concise.\n",
    "#### Constrast Python to Ruby, where there are often many ways to do something without a guideline for which is preferred."
   ]
  },
  {
   "cell_type": "markdown",
   "metadata": {},
   "source": [
    "### 22. What is your favorite library in Python?\n",
    "#### Numpy, Pandas, Matplotlib, seaborn"
   ]
  },
  {
   "cell_type": "markdown",
   "metadata": {},
   "source": [
    "### 23. Name mutable and immutable objects\n",
    "#### Immutable means the state cannot be modified after creation. Exampe are: int, float, bool, string and tuple."
   ]
  },
  {
   "cell_type": "markdown",
   "metadata": {},
   "source": [
    "### 24. How would you round a number to 3 decimal places?\n",
    "#### Use the 'round(value, decimal_places)' functions."
   ]
  },
  {
   "cell_type": "code",
   "execution_count": 71,
   "metadata": {},
   "outputs": [
    {
     "data": {
      "text/plain": [
       "5.123"
      ]
     },
     "execution_count": 71,
     "metadata": {},
     "output_type": "execute_result"
    }
   ],
   "source": [
    "a = 5.12345\n",
    "round(a,3)"
   ]
  },
  {
   "cell_type": "markdown",
   "metadata": {},
   "source": [
    "### 25. How do you slice a list?\n",
    "#### Slicing notation takes 3 arguments, 'list [ start : stop : step]', where step is the interval at which elements are returned."
   ]
  },
  {
   "cell_type": "code",
   "execution_count": 72,
   "metadata": {},
   "outputs": [
    {
     "name": "stdout",
     "output_type": "stream",
     "text": [
      "[0, 1]\n"
     ]
    }
   ],
   "source": [
    "a = [0,1,2,3,4,5,6,7,8,9]\n",
    "print(a[:2])"
   ]
  },
  {
   "cell_type": "code",
   "execution_count": 73,
   "metadata": {},
   "outputs": [
    {
     "name": "stdout",
     "output_type": "stream",
     "text": [
      "[8, 9]\n"
     ]
    }
   ],
   "source": [
    "print(a[8:])"
   ]
  },
  {
   "cell_type": "code",
   "execution_count": 76,
   "metadata": {},
   "outputs": [
    {
     "name": "stdout",
     "output_type": "stream",
     "text": [
      "[2, 4, 6]\n"
     ]
    }
   ],
   "source": [
    "print(a[2:8:2])"
   ]
  },
  {
   "cell_type": "markdown",
   "metadata": {},
   "source": [
    "### 26. What is pickling ?\n",
    "#### Pickling is the go-to method of serializing and unserialing objects in Python. In the example below, we serialize and unuserialize a list of dictionaries"
   ]
  },
  {
   "cell_type": "code",
   "execution_count": 79,
   "metadata": {},
   "outputs": [
    {
     "name": "stdout",
     "output_type": "stream",
     "text": [
      "[{'id': 1, 'name': 'Stuffy'}, {'id': 2, 'name': 'Fluffy'}]\n"
     ]
    }
   ],
   "source": [
    "import pickle \n",
    "obj = [\n",
    "    {'id':1, 'name':'Stuffy'},\n",
    "    {'id':2, 'name':'Fluffy'}\n",
    "]\n",
    "\n",
    "with open('file.p', 'wb') as f:\n",
    "    pickle.dump(obj,f)\n",
    "\n",
    "with open('file.p', 'rb') as f:\n",
    "    loaded_obj = pickle.load(f)\n",
    "\n",
    "print(loaded_obj)"
   ]
  },
  {
   "cell_type": "markdown",
   "metadata": {},
   "source": [
    "### 27. What is the difference between dictionaries and JSON?\n",
    "#### Dict is python datatype, a collection of indexed but unordered keys and values\n",
    "#### JSON is just a string which follows a specified format and is intended for transferring data"
   ]
  },
  {
   "cell_type": "markdown",
   "metadata": {},
   "source": [
    "### 28. What is ORMs have you used in Python?\n",
    "#### ORMs (object relation mapping) map data models (usually in an app) to database tables and simplifies database transactions\n",
    "#### SQLAlchemy is typically used in the context of Flask. and Django has it's own ORM."
   ]
  },
  {
   "cell_type": "markdown",
   "metadata": {},
   "source": [
    "### 29. How do any() and all() work?\n",
    "#### Any takes a sequence and returns true if any element in the sequqnce is true.\n",
    "#### All returns true only if all elements in the sequene are true."
   ]
  },
  {
   "cell_type": "code",
   "execution_count": 80,
   "metadata": {},
   "outputs": [
    {
     "name": "stdout",
     "output_type": "stream",
     "text": [
      "False\n",
      "True\n",
      "True\n"
     ]
    }
   ],
   "source": [
    "a = [False, False, False]\n",
    "b = [True, False, False]\n",
    "c = [True, True, True]\n",
    "\n",
    "print(any(a))\n",
    "print(any(b))\n",
    "print(any(c))"
   ]
  },
  {
   "cell_type": "code",
   "execution_count": 81,
   "metadata": {},
   "outputs": [
    {
     "name": "stdout",
     "output_type": "stream",
     "text": [
      "False\n",
      "False\n",
      "True\n"
     ]
    }
   ],
   "source": [
    "print(all(a))\n",
    "print(all(b))\n",
    "print(all(c))"
   ]
  },
  {
   "cell_type": "markdown",
   "metadata": {},
   "source": [
    "### 30. Are dictionaries or lists faster for lookups?\n",
    "#### Looking up a value in a list takes O(n) time because the whole list needs to be iterated through until the value is found.\n",
    "#### Looking up a key in a dictionary takes O(1) time becuase it's has table.\n",
    "#### This can make a huge time difference if there are a lot of values so dictionaries are generally recommended for speed. But they do have other limitation like needing unique keys."
   ]
  },
  {
   "cell_type": "markdown",
   "metadata": {},
   "source": [
    "### What is the difference between a module and a package?\n",
    "#### A module is a file (or collection of files) that can be imported together"
   ]
  },
  {
   "cell_type": "code",
   "execution_count": 185,
   "metadata": {},
   "outputs": [],
   "source": [
    "import matplotlib"
   ]
  },
  {
   "cell_type": "markdown",
   "metadata": {},
   "source": [
    "#### A package is directory of modules"
   ]
  },
  {
   "cell_type": "code",
   "execution_count": 186,
   "metadata": {},
   "outputs": [],
   "source": [
    "from matplotlib import pyplot\n",
    "#So packages are modeules, but not all modules are packages."
   ]
  },
  {
   "cell_type": "markdown",
   "metadata": {},
   "source": [
    "### 32. How to increment and decrement an integer in Python?\n",
    "#### increment and decrement can be done with += and -=."
   ]
  },
  {
   "cell_type": "code",
   "execution_count": 192,
   "metadata": {},
   "outputs": [
    {
     "name": "stdout",
     "output_type": "stream",
     "text": [
      "11\n"
     ]
    }
   ],
   "source": [
    "val1 = 10\n",
    "val1 +=1\n",
    "print(val1)"
   ]
  },
  {
   "cell_type": "code",
   "execution_count": 193,
   "metadata": {},
   "outputs": [
    {
     "name": "stdout",
     "output_type": "stream",
     "text": [
      "9\n"
     ]
    }
   ],
   "source": [
    "val2 = 10\n",
    "val2 -=1\n",
    "print(val2)"
   ]
  },
  {
   "cell_type": "code",
   "execution_count": 195,
   "metadata": {},
   "outputs": [
    {
     "name": "stdout",
     "output_type": "stream",
     "text": [
      "14\n"
     ]
    }
   ],
   "source": [
    "val3 = 16\n",
    "val3 -=1\n",
    "val3 -=1\n",
    "print(val3)"
   ]
  },
  {
   "cell_type": "markdown",
   "metadata": {},
   "source": [
    "### 33. How to return the binary of an integer?\n",
    "#### Use the 'bin()' function"
   ]
  },
  {
   "cell_type": "code",
   "execution_count": 196,
   "metadata": {},
   "outputs": [
    {
     "data": {
      "text/plain": [
       "'0b10100'"
      ]
     },
     "execution_count": 196,
     "metadata": {},
     "output_type": "execute_result"
    }
   ],
   "source": [
    "bin(20)"
   ]
  },
  {
   "cell_type": "markdown",
   "metadata": {},
   "source": [
    "### 34. How to remove duplicate elements from a list?\n",
    "#### This can be done by converting list to a set then back to a list."
   ]
  },
  {
   "cell_type": "code",
   "execution_count": 99,
   "metadata": {},
   "outputs": [
    {
     "name": "stdout",
     "output_type": "stream",
     "text": [
      "[1, 3, 5, 6]\n"
     ]
    }
   ],
   "source": [
    "a = [1,1,1,3,5,6]\n",
    "a = list(set(a))\n",
    "print(a)"
   ]
  },
  {
   "cell_type": "markdown",
   "metadata": {},
   "source": [
    "### 35. How to check if a value exists in a list?\n",
    "#### Use 'in'"
   ]
  },
  {
   "cell_type": "code",
   "execution_count": 100,
   "metadata": {},
   "outputs": [
    {
     "data": {
      "text/plain": [
       "True"
      ]
     },
     "execution_count": 100,
     "metadata": {},
     "output_type": "execute_result"
    }
   ],
   "source": [
    "'a' in ['a', 'b', 'c']"
   ]
  },
  {
   "cell_type": "code",
   "execution_count": 101,
   "metadata": {},
   "outputs": [
    {
     "data": {
      "text/plain": [
       "False"
      ]
     },
     "execution_count": 101,
     "metadata": {},
     "output_type": "execute_result"
    }
   ],
   "source": [
    "'a' in [1, 2, 3, 4]"
   ]
  },
  {
   "cell_type": "markdown",
   "metadata": {},
   "source": [
    "### 36. What is the difference between append and extend?\n",
    "#### 'append' adds a value to a list while 'extend' adds values in another list to a list"
   ]
  },
  {
   "cell_type": "code",
   "execution_count": 102,
   "metadata": {},
   "outputs": [
    {
     "name": "stdout",
     "output_type": "stream",
     "text": [
      "[1, 2, 3, 6]\n"
     ]
    }
   ],
   "source": [
    "a = [1,2,3]\n",
    "b = [1,2,3]\n",
    "\n",
    "a.append(6)\n",
    "print(a)"
   ]
  },
  {
   "cell_type": "code",
   "execution_count": 103,
   "metadata": {},
   "outputs": [
    {
     "name": "stdout",
     "output_type": "stream",
     "text": [
      "[1, 2, 3, 4, 5]\n"
     ]
    }
   ],
   "source": [
    "b.extend([4,5])\n",
    "print(b)"
   ]
  },
  {
   "cell_type": "markdown",
   "metadata": {},
   "source": [
    "### 37. How to take the absolute value of an integer?\n",
    "#### This can be done with the 'abs()' function."
   ]
  },
  {
   "cell_type": "code",
   "execution_count": 106,
   "metadata": {},
   "outputs": [
    {
     "data": {
      "text/plain": [
       "2"
      ]
     },
     "execution_count": 106,
     "metadata": {},
     "output_type": "execute_result"
    }
   ],
   "source": [
    "abs(2)"
   ]
  },
  {
   "cell_type": "code",
   "execution_count": 105,
   "metadata": {},
   "outputs": [
    {
     "data": {
      "text/plain": [
       "2"
      ]
     },
     "execution_count": 105,
     "metadata": {},
     "output_type": "execute_result"
    }
   ],
   "source": [
    "abs(-2)"
   ]
  },
  {
   "cell_type": "markdown",
   "metadata": {},
   "source": [
    "### 38. How to combine two lists into list of tuples?\n",
    "#### You can use the 'zip' function to combine lists into a list of tuples. This isn't restricted to only 2 lists. It can also be done with 3 or more."
   ]
  },
  {
   "cell_type": "code",
   "execution_count": 107,
   "metadata": {},
   "outputs": [
    {
     "data": {
      "text/plain": [
       "[('a', 1), ('b', 2), ('c', 3)]"
      ]
     },
     "execution_count": 107,
     "metadata": {},
     "output_type": "execute_result"
    }
   ],
   "source": [
    "a = ['a', 'b', 'c']\n",
    "b = [1, 2, 3]\n",
    "\n",
    "[(x,y) for x,y in zip(a,b)]"
   ]
  },
  {
   "cell_type": "markdown",
   "metadata": {},
   "source": [
    "### 39. How can you sort a dictionary by key, alphabetically?\n",
    "#### You can't 'sort' a dictionary because dictionaries don't have order but you can return a sorted list of tuples which has the keys and values that are in the dictionary."
   ]
  },
  {
   "cell_type": "code",
   "execution_count": 109,
   "metadata": {},
   "outputs": [
    {
     "data": {
      "text/plain": [
       "[('a', 1), ('c', 3), ('d', 4)]"
      ]
     },
     "execution_count": 109,
     "metadata": {},
     "output_type": "execute_result"
    }
   ],
   "source": [
    "d = {'c':3, 'd':4, 'a':1}\n",
    "\n",
    "sorted(d.items())"
   ]
  },
  {
   "cell_type": "markdown",
   "metadata": {},
   "source": [
    "### 40. How does a class inherit from another class in Python?\n",
    "#### In the below example, 'audi', inherits fom 'Car'. And with that inheritance comes the instance methods of the parent class."
   ]
  },
  {
   "cell_type": "code",
   "execution_count": 110,
   "metadata": {},
   "outputs": [
    {
     "name": "stdout",
     "output_type": "stream",
     "text": [
      "vroom\n"
     ]
    }
   ],
   "source": [
    "class Car():\n",
    "    def drive(self):\n",
    "        print ('vroom')\n",
    "\n",
    "class Audi(Car):\n",
    "    pass\n",
    "\n",
    "audi = Audi()\n",
    "audi.drive()"
   ]
  },
  {
   "cell_type": "markdown",
   "metadata": {},
   "source": [
    "### 41.How can you remove all whitespace from a string?\n",
    "#### The easiest way is to split the string on whitespace and then rejoint without spaces."
   ]
  },
  {
   "cell_type": "code",
   "execution_count": 114,
   "metadata": {},
   "outputs": [
    {
     "data": {
      "text/plain": [
       "'Astringwithwhitespace'"
      ]
     },
     "execution_count": 114,
     "metadata": {},
     "output_type": "execute_result"
    }
   ],
   "source": [
    "s = \"A      string     with      white space\"\n",
    "\n",
    "''.join(s.split())"
   ]
  },
  {
   "cell_type": "markdown",
   "metadata": {},
   "source": [
    "### 42. Why would you use enumerate() when iterating on a sequence?\n",
    "#### 'enumerate()' allows tracking index when iterating over a sequence. It's more pythonic than defining and increamenting an integer representing the index."
   ]
  },
  {
   "cell_type": "code",
   "execution_count": 115,
   "metadata": {},
   "outputs": [
    {
     "name": "stdout",
     "output_type": "stream",
     "text": [
      "0 a\n",
      "1 b\n",
      "2 c\n",
      "3 e\n",
      "4 d\n"
     ]
    }
   ],
   "source": [
    "lst = ['a', 'b', 'c', 'e', 'd']\n",
    "\n",
    "for idx, val in enumerate(lst):\n",
    "    print(idx, val)"
   ]
  },
  {
   "cell_type": "markdown",
   "metadata": {},
   "source": [
    "### 43. What is the difference between pass, continue and break?\n",
    "#### 'pass' means do nothing. We typically use it because Python doesn't allow creating a class, function or if-statement without code inside it.\n",
    "#### In the example below, an error would be thrown without code inside the i > 4 so we can use 'pass'."
   ]
  },
  {
   "cell_type": "code",
   "execution_count": 200,
   "metadata": {},
   "outputs": [
    {
     "name": "stdout",
     "output_type": "stream",
     "text": [
      "1\n",
      "2\n",
      "3\n",
      "4\n",
      "5\n",
      "6\n",
      "7\n"
     ]
    }
   ],
   "source": [
    "a = [1,2,3,4,5,6,7]\n",
    "\n",
    "for i in a :\n",
    "    if i > 4:\n",
    "        pass\n",
    "    print(i)"
   ]
  },
  {
   "cell_type": "markdown",
   "metadata": {},
   "source": [
    "#### 'continue' continues to the next element and halts executio for the current element. So print(i) is never reached for values where i < 5."
   ]
  },
  {
   "cell_type": "code",
   "execution_count": 201,
   "metadata": {},
   "outputs": [
    {
     "name": "stdout",
     "output_type": "stream",
     "text": [
      "5\n",
      "6\n",
      "7\n"
     ]
    }
   ],
   "source": [
    "for i in a:\n",
    "    if i < 5: \n",
    "        continue\n",
    "    print(i)"
   ]
  },
  {
   "cell_type": "markdown",
   "metadata": {},
   "source": [
    "#### 'break' brkeas the loop and the sequence is not longer iterated over. So elements from 3 onward are not printed."
   ]
  },
  {
   "cell_type": "code",
   "execution_count": 202,
   "metadata": {},
   "outputs": [
    {
     "name": "stdout",
     "output_type": "stream",
     "text": [
      "1\n",
      "2\n"
     ]
    }
   ],
   "source": [
    "for i in a:\n",
    "    if i == 3:\n",
    "        break\n",
    "    print(i)"
   ]
  },
  {
   "cell_type": "markdown",
   "metadata": {},
   "source": [
    "### 44. Convert the following for loop into a list comprehension.\n",
    "#### This 'for' loop."
   ]
  },
  {
   "cell_type": "code",
   "execution_count": 119,
   "metadata": {},
   "outputs": [
    {
     "name": "stdout",
     "output_type": "stream",
     "text": [
      "[2, 3, 4, 5, 6]\n"
     ]
    }
   ],
   "source": [
    "a = [1,2,3,4,5]\n",
    "a2 = []\n",
    "for i in a:\n",
    "    a2.append(i+1)\n",
    "\n",
    "print(a2)"
   ]
  },
  {
   "cell_type": "code",
   "execution_count": 121,
   "metadata": {},
   "outputs": [
    {
     "name": "stdout",
     "output_type": "stream",
     "text": [
      "[2, 3, 4, 5, 6]\n"
     ]
    }
   ],
   "source": [
    "#Become\n",
    "\n",
    "a3 = [i+1 for i in a]\n",
    "\n",
    "print(a3)\n",
    "\n",
    "# List comprehensin is generally accepted as more pythonic where it's still readable."
   ]
  },
  {
   "cell_type": "markdown",
   "metadata": {},
   "source": [
    "### 45. Givean example of the ternary operator.\n",
    "#### The ternary operator is one-line if/else statement.\n",
    "#### The syntax looks like a if condition else b."
   ]
  },
  {
   "cell_type": "code",
   "execution_count": 122,
   "metadata": {},
   "outputs": [
    {
     "data": {
      "text/plain": [
       "'less'"
      ]
     },
     "execution_count": 122,
     "metadata": {},
     "output_type": "execute_result"
    }
   ],
   "source": [
    "x = 5\n",
    "y = 10\n",
    "\n",
    "'greater' if x > 6 else 'less'"
   ]
  },
  {
   "cell_type": "code",
   "execution_count": 123,
   "metadata": {},
   "outputs": [
    {
     "data": {
      "text/plain": [
       "'greater'"
      ]
     },
     "execution_count": 123,
     "metadata": {},
     "output_type": "execute_result"
    }
   ],
   "source": [
    "'greater' if y > 6 else 'less'"
   ]
  },
  {
   "cell_type": "markdown",
   "metadata": {},
   "source": [
    "### 46. Check if a string only contains numbers.\n",
    "#### You can use isnumeric()."
   ]
  },
  {
   "cell_type": "code",
   "execution_count": 124,
   "metadata": {},
   "outputs": [
    {
     "data": {
      "text/plain": [
       "False"
      ]
     },
     "execution_count": 124,
     "metadata": {},
     "output_type": "execute_result"
    }
   ],
   "source": [
    "'123a'.isnumeric()"
   ]
  },
  {
   "cell_type": "code",
   "execution_count": 125,
   "metadata": {},
   "outputs": [
    {
     "data": {
      "text/plain": [
       "True"
      ]
     },
     "execution_count": 125,
     "metadata": {},
     "output_type": "execute_result"
    }
   ],
   "source": [
    "'123'.isnumeric()"
   ]
  },
  {
   "cell_type": "markdown",
   "metadata": {},
   "source": [
    "### 47. Check if a string only contains letters.\n",
    "#### You can use isalpha()"
   ]
  },
  {
   "cell_type": "code",
   "execution_count": 126,
   "metadata": {},
   "outputs": [
    {
     "data": {
      "text/plain": [
       "False"
      ]
     },
     "execution_count": 126,
     "metadata": {},
     "output_type": "execute_result"
    }
   ],
   "source": [
    "'123a'.isalpha()"
   ]
  },
  {
   "cell_type": "code",
   "execution_count": 127,
   "metadata": {},
   "outputs": [
    {
     "data": {
      "text/plain": [
       "True"
      ]
     },
     "execution_count": 127,
     "metadata": {},
     "output_type": "execute_result"
    }
   ],
   "source": [
    "'a'.isalpha()"
   ]
  },
  {
   "cell_type": "markdown",
   "metadata": {},
   "source": [
    "### 48. Check if a string only contains nunmbers and letters.\n",
    "#### You can use isalnum()"
   ]
  },
  {
   "cell_type": "code",
   "execution_count": 128,
   "metadata": {},
   "outputs": [
    {
     "data": {
      "text/plain": [
       "False"
      ]
     },
     "execution_count": 128,
     "metadata": {},
     "output_type": "execute_result"
    }
   ],
   "source": [
    "'123abc...'.isalnum()"
   ]
  },
  {
   "cell_type": "code",
   "execution_count": 129,
   "metadata": {},
   "outputs": [
    {
     "data": {
      "text/plain": [
       "True"
      ]
     },
     "execution_count": 129,
     "metadata": {},
     "output_type": "execute_result"
    }
   ],
   "source": [
    "'123abc'.isalnum()"
   ]
  },
  {
   "cell_type": "markdown",
   "metadata": {},
   "source": [
    "### 49. Return a list of keys from a dictionary.\n",
    "#### This can be done by passing the dictionary to python's 'list()' constructor, list()."
   ]
  },
  {
   "cell_type": "code",
   "execution_count": 197,
   "metadata": {},
   "outputs": [
    {
     "data": {
      "text/plain": [
       "['id', 'name', 'color', 'speed']"
      ]
     },
     "execution_count": 197,
     "metadata": {},
     "output_type": "execute_result"
    }
   ],
   "source": [
    "d = { 'id':7, 'name':'chiwawa', 'color':'white', 'speed':'fast'}\n",
    "\n",
    "list(d)"
   ]
  },
  {
   "cell_type": "markdown",
   "metadata": {},
   "source": [
    "### 50. How do you upper and lowercase a string?\n",
    "#### You can use the upper() and lower() string methods."
   ]
  },
  {
   "cell_type": "code",
   "execution_count": 198,
   "metadata": {},
   "outputs": [
    {
     "data": {
      "text/plain": [
       "'DIMSUM'"
      ]
     },
     "execution_count": 198,
     "metadata": {},
     "output_type": "execute_result"
    }
   ],
   "source": [
    "small_word = 'dimsum'\n",
    "big_word = 'PAN-FRIED-RICE'\n",
    "\n",
    "small_word.upper()"
   ]
  },
  {
   "cell_type": "code",
   "execution_count": 199,
   "metadata": {},
   "outputs": [
    {
     "data": {
      "text/plain": [
       "'pan-fried-rice'"
      ]
     },
     "execution_count": 199,
     "metadata": {},
     "output_type": "execute_result"
    }
   ],
   "source": [
    "big_word.lower()"
   ]
  },
  {
   "cell_type": "markdown",
   "metadata": {},
   "source": [
    "###  51. What is the difference between remove, del and pop?\n",
    "#### 'remove()' remove the first mathicing value."
   ]
  },
  {
   "cell_type": "code",
   "execution_count": 135,
   "metadata": {},
   "outputs": [
    {
     "data": {
      "text/plain": [
       "['a', 'c', 'd']"
      ]
     },
     "execution_count": 135,
     "metadata": {},
     "output_type": "execute_result"
    }
   ],
   "source": [
    "lst = ['a','b', 'c', 'd']\n",
    "\n",
    "lst.remove('b')\n",
    "lst"
   ]
  },
  {
   "cell_type": "code",
   "execution_count": 137,
   "metadata": {},
   "outputs": [
    {
     "data": {
      "text/plain": [
       "['b', 'c', 'd']"
      ]
     },
     "execution_count": 137,
     "metadata": {},
     "output_type": "execute_result"
    }
   ],
   "source": [
    "# 'del' removes an element by index\n",
    "\n",
    "lst = ['a','b','c','d']\n",
    "del lst[0]\n",
    "lst"
   ]
  },
  {
   "cell_type": "code",
   "execution_count": 141,
   "metadata": {},
   "outputs": [
    {
     "data": {
      "text/plain": [
       "'c'"
      ]
     },
     "execution_count": 141,
     "metadata": {},
     "output_type": "execute_result"
    }
   ],
   "source": [
    "# 'pop' removes an element by index and returns that elements\n",
    "lst = ['a', 'b', 'c', 'd']\n",
    "lst.pop(2)"
   ]
  },
  {
   "cell_type": "code",
   "execution_count": 142,
   "metadata": {},
   "outputs": [
    {
     "data": {
      "text/plain": [
       "['a', 'b', 'd']"
      ]
     },
     "execution_count": 142,
     "metadata": {},
     "output_type": "execute_result"
    }
   ],
   "source": [
    "lst"
   ]
  },
  {
   "cell_type": "markdown",
   "metadata": {},
   "source": [
    "### 52. Given an example of dictionary comprehension.\n",
    "#### Below we'll create dictionary with letters of the alphabet as key, and index on the alphabet as velues."
   ]
  },
  {
   "cell_type": "code",
   "execution_count": 143,
   "metadata": {},
   "outputs": [],
   "source": [
    "# creating a list of letters\n",
    "import string\n",
    "list(string.ascii_lowercase)\n",
    "alphabet = list(string.ascii_lowercase)"
   ]
  },
  {
   "cell_type": "code",
   "execution_count": 145,
   "metadata": {},
   "outputs": [
    {
     "data": {
      "text/plain": [
       "{'a': 0,\n",
       " 'b': 1,\n",
       " 'c': 2,\n",
       " 'd': 3,\n",
       " 'e': 4,\n",
       " 'f': 5,\n",
       " 'g': 6,\n",
       " 'h': 7,\n",
       " 'i': 8,\n",
       " 'j': 9,\n",
       " 'k': 10,\n",
       " 'l': 11,\n",
       " 'm': 12,\n",
       " 'n': 13,\n",
       " 'o': 14,\n",
       " 'p': 15,\n",
       " 'q': 16,\n",
       " 'r': 17,\n",
       " 's': 18,\n",
       " 't': 19,\n",
       " 'u': 20,\n",
       " 'v': 21,\n",
       " 'w': 22,\n",
       " 'x': 23,\n",
       " 'y': 24,\n",
       " 'z': 25}"
      ]
     },
     "execution_count": 145,
     "metadata": {},
     "output_type": "execute_result"
    }
   ],
   "source": [
    "#list comprehension\n",
    "d = {val:idx for idx,val in enumerate(alphabet)}\n",
    "d"
   ]
  },
  {
   "cell_type": "markdown",
   "metadata": {},
   "source": [
    "### 53. How is exception handling performed in Pyhon?\n",
    "#### Python provides 3 words to hendle exceptions, 'try', 'except' and 'finally'. The syntax looks like this."
   ]
  },
  {
   "cell_type": "code",
   "execution_count": 181,
   "metadata": {},
   "outputs": [
    {
     "name": "stdout",
     "output_type": "stream",
     "text": [
      "complete\n",
      "100\n"
     ]
    }
   ],
   "source": [
    "try:\n",
    "    val = 35 + 'A'\n",
    "except:\n",
    "    val = 100\n",
    "finally:\n",
    "    print('complete')\n",
    "\n",
    "print(val)"
   ]
  },
  {
   "cell_type": "markdown",
   "metadata": {},
   "source": [
    "### 54. Lambda Function\n",
    "#### example:"
   ]
  },
  {
   "cell_type": "code",
   "execution_count": 179,
   "metadata": {},
   "outputs": [
    {
     "data": {
      "text/plain": [
       "4"
      ]
     },
     "execution_count": 179,
     "metadata": {},
     "output_type": "execute_result"
    }
   ],
   "source": [
    "def func(x):\n",
    "    return x*x\n",
    "\n",
    "a = func(2)\n",
    "a"
   ]
  },
  {
   "cell_type": "code",
   "execution_count": 180,
   "metadata": {},
   "outputs": [
    {
     "data": {
      "text/plain": [
       "4"
      ]
     },
     "execution_count": 180,
     "metadata": {},
     "output_type": "execute_result"
    }
   ],
   "source": [
    "# Apply lambda here\n",
    "f = lambda x: x*x\n",
    "a = f(2)\n",
    "a"
   ]
  },
  {
   "cell_type": "markdown",
   "metadata": {},
   "source": [
    "### 55. What are the meaning of *args and  **kwargs in func( *args, **kwargs)? \n",
    "####  *args in function definitions in python is used to pass a variable number of arguments to a function. It is used to pass a non-keyworded, variable-length argument list.\n",
    "#### **kwargs in function definitions in python is used to pass a keyworded, variable-length argument list. We use the name kwargs with the double star. The reason is because the double star allows us to pass through keyword arguments"
   ]
  },
  {
   "cell_type": "code",
   "execution_count": 212,
   "metadata": {},
   "outputs": [],
   "source": [
    "#Example \n",
    "def demo(args_f, *args_v):\n",
    "    print (args_f)\n",
    "    for x in args_v:\n",
    "        print (x)"
   ]
  },
  {
   "cell_type": "code",
   "execution_count": 213,
   "metadata": {},
   "outputs": [
    {
     "name": "stdout",
     "output_type": "stream",
     "text": [
      "a\n",
      "b\n",
      "c\n",
      "d\n"
     ]
    }
   ],
   "source": [
    "demo('a','b', 'c', 'd')"
   ]
  },
  {
   "cell_type": "code",
   "execution_count": 214,
   "metadata": {},
   "outputs": [],
   "source": [
    "def demo2(**args_v):\n",
    "    for k,v in args_v.items():\n",
    "        print (k,v)"
   ]
  },
  {
   "cell_type": "code",
   "execution_count": 215,
   "metadata": {},
   "outputs": [
    {
     "name": "stdout",
     "output_type": "stream",
     "text": [
      "name peter\n"
     ]
    }
   ],
   "source": [
    "demo2(name='peter')"
   ]
  },
  {
   "cell_type": "code",
   "execution_count": null,
   "metadata": {},
   "outputs": [],
   "source": []
  }
 ],
 "metadata": {
  "kernelspec": {
   "display_name": "Python 3",
   "language": "python",
   "name": "python3"
  },
  "language_info": {
   "codemirror_mode": {
    "name": "ipython",
    "version": 3
   },
   "file_extension": ".py",
   "mimetype": "text/x-python",
   "name": "python",
   "nbconvert_exporter": "python",
   "pygments_lexer": "ipython3",
   "version": "3.8.2"
  }
 },
 "nbformat": 4,
 "nbformat_minor": 4
}
